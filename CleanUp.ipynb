{
 "cells": [
  {
   "cell_type": "code",
   "execution_count": 7,
   "id": "97bdf021",
   "metadata": {},
   "outputs": [
    {
     "name": "stdout",
     "output_type": "stream",
     "text": [
      "./.ipynb_checkpoints\n",
      "./Test\n"
     ]
    }
   ],
   "source": [
    "import os\n",
    "\n",
    "for folder in os.scandir(): #use in output directory \n",
    "    #print(folder.name)\n",
    "    if os.path.isdir(folder.path): #for every folder\n",
    "        print(folder.path)\n",
    "        for item in os.scandir(\"\"): #ADD PATH OF FOLDER OF RESULTS\n",
    "            if folder.name in item.name:\n",
    "                fileName=item.path[item.path.rfind(\"/\")+1:]\n",
    "                newDir=folder.path+\"/\"+fileName\n",
    "                os.rename(item.path, newDir)\n",
    "                "
   ]
  },
  {
   "cell_type": "code",
   "execution_count": null,
   "id": "cae86a96",
   "metadata": {},
   "outputs": [],
   "source": []
  }
 ],
 "metadata": {
  "kernelspec": {
   "display_name": "Python 3 (ipykernel)",
   "language": "python",
   "name": "python3"
  },
  "language_info": {
   "codemirror_mode": {
    "name": "ipython",
    "version": 3
   },
   "file_extension": ".py",
   "mimetype": "text/x-python",
   "name": "python",
   "nbconvert_exporter": "python",
   "pygments_lexer": "ipython3",
   "version": "3.10.9"
  }
 },
 "nbformat": 4,
 "nbformat_minor": 5
}
