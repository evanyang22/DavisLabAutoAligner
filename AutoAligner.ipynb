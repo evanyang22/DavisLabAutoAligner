{
 "cells": [
  {
   "cell_type": "code",
   "execution_count": 12,
   "id": "d45370ee",
   "metadata": {},
   "outputs": [
    {
     "name": "stdout",
     "output_type": "stream",
     "text": [
      "STAR --genomeDir /home/ehyang4/ncbi_dataset/data --readFilesIn ./p22323-s014_EV-Justin-1-week-08-16-2022-TotalRNA_S36_L002_R1_001.fastq ./p22323-s014_EV-Justin-1-week-08-16-2022-TotalRNA_S36_L002_R2_001.fastq --quantMode GeneCounts --outFileNamePrefix p22323-s014_EV-Justin-1-week-08-16-2022-TotalRNA_S36_L002_R1_001\n"
     ]
    }
   ],
   "source": [
    "#finished looped one\n",
    "import os\n",
    "outputDir=\"/home/ehyang4/Desktop/Output\"\n",
    "os.mkdir(outputDir) \n",
    "for fastq in os.scandir():\n",
    "    if fastq.path.endswith(\".fastq\") and \"R2\" in fastq.path:\n",
    "        pass\n",
    "    if fastq.path.endswith(\".fastq\") and \"R1\" in fastq.path:\n",
    "        currentFile= fastq.path\n",
    "        pairedFile=currentFile.replace(\"R1\",\"R2\")\n",
    "        prefix=currentFile[currentFile.find(\"/\")+1:currentFile.rfind(\".\")]\n",
    "        #running paired trim galore\n",
    "        commandTrim=\"trim_galore --paired --quality 18 --fastqc --illumina \"+ str(currentFile)+ \" \" + str(pairedFile)\n",
    "        #18 is minimum for miRNA? idk pick setting\n",
    "        os.system(commandTrim)   \n",
    "        #aligning via star\n",
    "        commandAlign=\"STAR --genomeDir /home/ehyang4/ncbi_dataset/data --readFilesIn \" + str(currentFile)+\" \"+ str(pairedFile)+\" --quantMode GeneCounts --outFileNamePrefix \" +str(prefix) \n",
    "        os.system(commandAlign)\n",
    "        #creates a new directory where all the random output files on the desktop will be moved to\n",
    "        fileDir=\"/home/ehyang4/Desktop/Output/\"+str(prefix)\n",
    "        os.mkdir(fileDir) \n",
    "        print(fileDir)\n",
    "        #moves all random files\n",
    "        for file in os.scandir(\"/home/ehyang4/Desktop/AutoAligner\"):\n",
    "            print(file.path)\n",
    "            if file.path.endswith(\".txt\"):\n",
    "                fileName=file.path[file.path.rfind(\"/\")+1:]\n",
    "                newDir=fileDir+\"/\"+fileName\n",
    "                os.rename(file.path, newDir)\n",
    "            if file.path.endswith(\".out\"):\n",
    "                fileName=file.path[file.path.rfind(\"/\")+1:]\n",
    "                newDir=fileDir+\"/\"+fileName\n",
    "                os.rename(file.path, newDir)\n",
    "            if file.path.endswith(\".sam\"):\n",
    "                fileName=file.path[file.path.rfind(\"/\")+1:]\n",
    "                newDir=fileDir+\"/\"+fileName\n",
    "                os.rename(file.path, newDir)\n",
    "            if file.path.endswith(\".zip\"):\n",
    "                fileName=file.path[file.path.rfind(\"/\")+1:]\n",
    "                newDir=fileDir+\"/\"+fileName\n",
    "                os.rename(file.path, newDir)\n",
    "            if file.path.endswith(\".fq\"):\n",
    "                fileName=file.path[file.path.rfind(\"/\")+1:]\n",
    "                newDir=fileDir+\"/\"+fileName\n",
    "                os.rename(file.path, newDir)\n",
    "            if file.path.endswith(\".html\"):\n",
    "                fileName=file.path[file.path.rfind(\"/\")+1:]\n",
    "                newDir=fileDir+\"/\"+fileName\n",
    "                os.rename(file.path, newDir)\n",
    "            if file.path.endswith(\".tab\"):\n",
    "                fileName=file.path[file.path.rfind(\"/\")+1:]\n",
    "                newDir=fileDir+\"/\"+fileName\n",
    "                os.rename(file.path, newDir)\n",
    "        "
   ]
  },
  {
   "cell_type": "code",
   "execution_count": null,
   "id": "90863ce2",
   "metadata": {},
   "outputs": [],
   "source": [
    "#finished looped one- implement with try and except\n",
    "import os\n",
    "outputDir=\"/home/ehyang4/Desktop/Output\"\n",
    "os.mkdir(outputDir) \n",
    "for fastq in os.scandir():\n",
    "    if fastq.path.endswith(\".fastq\") and \"R2\" in fastq.path:\n",
    "        pass\n",
    "    if fastq.path.endswith(\".fastq\") and \"R1\" in fastq.path:\n",
    "        currentFile= fastq.path\n",
    "        pairedFile=currentFile.replace(\"R1\",\"R2\")\n",
    "        prefix=currentFile[currentFile.find(\"/\")+1:currentFile.rfind(\".\")]\n",
    "        #running paired trim galore\n",
    "        commandTrim=\"trim_galore --paired --quality 18 --fastqc --illumina \"+ str(currentFile)+ \" \" + str(pairedFile)\n",
    "        #18 is minimum for miRNA? idk pick setting\n",
    "        os.system(commandTrim)   \n",
    "        #aligning via star\n",
    "        commandAlign=\"STAR --genomeDir /home/ehyang4/ncbi_dataset/data --readFilesIn \" + str(currentFile)+\" \"+ str(pairedFile)+\" --quantMode GeneCounts --outFileNamePrefix \" +str(prefix) \n",
    "        os.system(commandAlign)\n",
    "        #creates a new directory where all the random output files on the desktop will be moved to\n",
    "        fileDir=\"/home/ehyang4/Desktop/Output/\"+str(prefix)\n",
    "        os.mkdir(fileDir) \n",
    "        print(fileDir)\n",
    "        #moves all random files\n",
    "        for file in os.scandir(\"/home/ehyang4/Desktop/AutoAligner\"):\n",
    "            print(file.path)\n",
    "            if file.path.endswith(\".txt\"):\n",
    "                fileName=file.path[file.path.rfind(\"/\")+1:]\n",
    "                newDir=fileDir+\"/\"+fileName\n",
    "                os.rename(file.path, newDir)\n",
    "            if file.path.endswith(\".out\"):\n",
    "                fileName=file.path[file.path.rfind(\"/\")+1:]\n",
    "                newDir=fileDir+\"/\"+fileName\n",
    "                os.rename(file.path, newDir)\n",
    "            if file.path.endswith(\".sam\"):\n",
    "                fileName=file.path[file.path.rfind(\"/\")+1:]\n",
    "                newDir=fileDir+\"/\"+fileName\n",
    "                os.rename(file.path, newDir)\n",
    "            if file.path.endswith(\".zip\"):\n",
    "                fileName=file.path[file.path.rfind(\"/\")+1:]\n",
    "                newDir=fileDir+\"/\"+fileName\n",
    "                os.rename(file.path, newDir)\n",
    "            if file.path.endswith(\".fq\"):\n",
    "                fileName=file.path[file.path.rfind(\"/\")+1:]\n",
    "                newDir=fileDir+\"/\"+fileName\n",
    "                os.rename(file.path, newDir)\n",
    "            if file.path.endswith(\".html\"):\n",
    "                fileName=file.path[file.path.rfind(\"/\")+1:]\n",
    "                newDir=fileDir+\"/\"+fileName\n",
    "                os.rename(file.path, newDir)\n",
    "            if file.path.endswith(\".tab\"):\n",
    "                fileName=file.path[file.path.rfind(\"/\")+1:]\n",
    "                newDir=fileDir+\"/\"+fileName\n",
    "                os.rename(file.path, newDir)\n",
    "        "
   ]
  },
  {
   "cell_type": "code",
   "execution_count": null,
   "id": "ab2e7443",
   "metadata": {},
   "outputs": [],
   "source": [
    "#test below individual commands"
   ]
  },
  {
   "cell_type": "code",
   "execution_count": 3,
   "id": "5eb97cef",
   "metadata": {},
   "outputs": [
    {
     "name": "stderr",
     "output_type": "stream",
     "text": [
      "usage: conda init [-h] [--all] [--user] [--no-user] [--system] [--reverse]\n",
      "                  [--json] [-v] [-q] [-d]\n",
      "                  [SHELLS ...]\n",
      "conda init: error: argument SHELLS: invalid choice: 'cutadaptenv' (choose from 'bash', 'fish', 'tcsh', 'xonsh', 'zsh', 'powershell')\n"
     ]
    },
    {
     "name": "stdout",
     "output_type": "stream",
     "text": [
      "CutAdaptEnv activated\n"
     ]
    },
    {
     "name": "stderr",
     "output_type": "stream",
     "text": [
      "\n",
      "CommandNotFoundError: Your shell has not been properly configured to use 'conda activate'.\n",
      "To initialize your shell, run\n",
      "\n",
      "    $ conda init <SHELL_NAME>\n",
      "\n",
      "Currently supported shells are:\n",
      "  - bash\n",
      "  - fish\n",
      "  - tcsh\n",
      "  - xonsh\n",
      "  - zsh\n",
      "  - powershell\n",
      "\n",
      "See 'conda init --help' for more information and options.\n",
      "\n",
      "IMPORTANT: You may need to close and restart your shell after running 'conda init'.\n",
      "\n",
      "\n"
     ]
    }
   ],
   "source": [
    "import os\n",
    "# need to activate cutadaptenv somehow or else program doesn't work\n",
    "os.system(\"conda init cutadaptenv\")\n",
    "os.system(\"conda activate cutadaptenv\")\n",
    "print(\"CutAdaptEnv activated\")\n",
    "\n"
   ]
  },
  {
   "cell_type": "code",
   "execution_count": 4,
   "id": "f3c60445",
   "metadata": {},
   "outputs": [],
   "source": [
    "#making an output directory\n",
    "outputDir=\"/home/ehyang4/Desktop/Output\"\n",
    "os.mkdir(outputDir) \n",
    "#need to figure out way to move files to output directory after each run"
   ]
  },
  {
   "cell_type": "code",
   "execution_count": null,
   "id": "f451d092",
   "metadata": {},
   "outputs": [],
   "source": []
  },
  {
   "cell_type": "code",
   "execution_count": 5,
   "id": "bdb6b44b",
   "metadata": {},
   "outputs": [
    {
     "name": "stderr",
     "output_type": "stream",
     "text": [
      "sh: fastqc: command not found\n"
     ]
    },
    {
     "data": {
      "text/plain": [
       "32512"
      ]
     },
     "execution_count": 5,
     "metadata": {},
     "output_type": "execute_result"
    }
   ],
   "source": [
    "currentFile=\"p22323-s014_EV-Justin-1-week-08-16-2022-TotalRNA_S36_L002_R1_001.fastq\"\n",
    "prefix=currentFile[:currentFile.find(\".\")]\n",
    "#running a quality control using fastqc\n",
    "commandQC= \"fastqc \" +str(currentFile)\n",
    "os.system(commandQC)"
   ]
  },
  {
   "cell_type": "code",
   "execution_count": 6,
   "id": "f40b8300",
   "metadata": {},
   "outputs": [
    {
     "name": "stdout",
     "output_type": "stream",
     "text": [
      "Trim_galore --quality 20 --fastqc --illumina test.fastq\n"
     ]
    }
   ],
   "source": [
    "#trimming using trim galore\n",
    "commandTrim=\"trim_galore --quality 18 --fastqc --illumina \"+ str(currentFile)\n",
    "#18 is minimum for miRNA? idk pick setting\n",
    "os.system(commandTrim)"
   ]
  },
  {
   "cell_type": "code",
   "execution_count": null,
   "id": "ef48eb22",
   "metadata": {},
   "outputs": [],
   "source": [
    "#aligning via STAR\n",
    "dirToFastQ=\" \"\n",
    "currentFile=\"p22323-s014_EV-Justin-1-week-08-16-2022-TotalRNA_S36_L002_R1_001.fastq\"\n",
    "commandAlign=\"STAR --genomeDir /home/ehyang4/ncbi_dataset/data --readFilesIn \" + str(currentFile)+\" --quantMode GeneCounts\"\n",
    "os.system(commandAlign)"
   ]
  },
  {
   "cell_type": "code",
   "execution_count": 14,
   "id": "07cf4e23",
   "metadata": {},
   "outputs": [
    {
     "name": "stdout",
     "output_type": "stream",
     "text": [
      "/home/ehyang4/Desktop/Output/p22323-s014_EV-Justin-1-week-08-16-2022-TotalRNA_S36_L002_R1_001\n",
      "/home/ehyang4/Desktop/AutoAligner/AutoAligner.ipynb\n",
      "/home/ehyang4/Desktop/AutoAligner/.ipynb_checkpoints\n",
      "/home/ehyang4/Desktop/AutoAligner/p22323-s014_EV-Justin-1-week-08-16-2022-TotalRNA_S36_L002_R1_001.fastq.gz\n",
      "/home/ehyang4/Desktop/AutoAligner/p22323-s014_EV-Justin-1-week-08-16-2022-TotalRNA_S36_L002_R1_001.fastq\n",
      "/home/ehyang4/Desktop/AutoAligner/p22323-s014_EV-Justin-1-week-08-16-2022-TotalRNA_S36_L002_R1_001_fastqc.html\n",
      "/home/ehyang4/Desktop/AutoAligner/p22323-s014_EV-Justin-1-week-08-16-2022-TotalRNA_S36_L002_R1_001_trimmed_fastqc.html\n",
      "/home/ehyang4/Desktop/AutoAligner/Aligned.out.sam\n",
      "/home/ehyang4/Desktop/AutoAligner/Log.out\n",
      "/home/ehyang4/Desktop/AutoAligner/Log.progress.out\n",
      "/home/ehyang4/Desktop/AutoAligner/p22323-s014_EV-Justin-1-week-08-16-2022-TotalRNA_S36_L002_R1_001.fastq_trimming_report.txt\n",
      "/home/ehyang4/Desktop/AutoAligner/p22323-s014_EV-Justin-1-week-08-16-2022-TotalRNA_S36_L002_R1_001_fastqc.zip\n",
      "/home/ehyang4/Desktop/AutoAligner/p22323-s014_EV-Justin-1-week-08-16-2022-TotalRNA_S36_L002_R1_001_trimmed.fq\n",
      "/home/ehyang4/Desktop/AutoAligner/p22323-s014_EV-Justin-1-week-08-16-2022-TotalRNA_S36_L002_R1_001_trimmed_fastqc.zip\n",
      "/home/ehyang4/Desktop/AutoAligner/SJ.out.tab\n",
      "/home/ehyang4/Desktop/AutoAligner/ReadsPerGene.out.tab\n",
      "/home/ehyang4/Desktop/AutoAligner/Log.final.out\n"
     ]
    }
   ],
   "source": [
    "#creates a new directory where all the random output files on the desktop will be moved to\n",
    "fileDir=\"/home/ehyang4/Desktop/Output/\"+str(prefix)\n",
    "os.mkdir(fileDir) \n",
    "print(fileDir)\n",
    "#moves all random files\n",
    "for file in os.scandir(\"/home/ehyang4/Desktop/AutoAligner\"):\n",
    "    print(file.path)\n",
    "    if file.path.endswith(\".txt\"):\n",
    "        fileName=file.path[file.path.rfind(\"/\")+1:]\n",
    "        newDir=fileDir+\"/\"+fileName\n",
    "        os.rename(file.path, newDir)\n",
    "    if file.path.endswith(\".out\"):\n",
    "        fileName=file.path[file.path.rfind(\"/\")+1:]\n",
    "        newDir=fileDir+\"/\"+fileName\n",
    "        os.rename(file.path, newDir)\n",
    "    if file.path.endswith(\".sam\"):\n",
    "        fileName=file.path[file.path.rfind(\"/\")+1:]\n",
    "        newDir=fileDir+\"/\"+fileName\n",
    "        os.rename(file.path, newDir)\n",
    "    if file.path.endswith(\".zip\"):\n",
    "        fileName=file.path[file.path.rfind(\"/\")+1:]\n",
    "        newDir=fileDir+\"/\"+fileName\n",
    "        os.rename(file.path, newDir)\n",
    "    if file.path.endswith(\".fq\"):\n",
    "        fileName=file.path[file.path.rfind(\"/\")+1:]\n",
    "        newDir=fileDir+\"/\"+fileName\n",
    "        os.rename(file.path, newDir)\n",
    "    if file.path.endswith(\".html\"):\n",
    "        fileName=file.path[file.path.rfind(\"/\")+1:]\n",
    "        newDir=fileDir+\"/\"+fileName\n",
    "        os.rename(file.path, newDir)\n",
    "    if file.path.endswith(\".tab\"):\n",
    "        fileName=file.path[file.path.rfind(\"/\")+1:]\n",
    "        newDir=fileDir+\"/\"+fileName\n",
    "        os.rename(file.path, newDir)"
   ]
  },
  {
   "cell_type": "code",
   "execution_count": null,
   "id": "35976af5",
   "metadata": {},
   "outputs": [],
   "source": []
  },
  {
   "cell_type": "code",
   "execution_count": null,
   "id": "696f906c",
   "metadata": {},
   "outputs": [],
   "source": []
  },
  {
   "cell_type": "code",
   "execution_count": null,
   "id": "1eca8d79",
   "metadata": {},
   "outputs": [],
   "source": [
    "#test below\n",
    "os.rename('old_directory/test_file.txt', 'new_directory/test_file.txt') #can move files from one directory to another"
   ]
  }
 ],
 "metadata": {
  "kernelspec": {
   "display_name": "Python 3 (ipykernel)",
   "language": "python",
   "name": "python3"
  },
  "language_info": {
   "codemirror_mode": {
    "name": "ipython",
    "version": 3
   },
   "file_extension": ".py",
   "mimetype": "text/x-python",
   "name": "python",
   "nbconvert_exporter": "python",
   "pygments_lexer": "ipython3",
   "version": "3.10.9"
  }
 },
 "nbformat": 4,
 "nbformat_minor": 5
}
